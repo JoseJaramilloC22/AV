{
  "nbformat": 4,
  "nbformat_minor": 0,
  "metadata": {
    "colab": {
      "name": "IMC",
      "provenance": [],
      "authorship_tag": "ABX9TyN/KVCJ3qLlZlUIWWTJlR2S",
      "include_colab_link": true
    },
    "kernelspec": {
      "name": "python3",
      "display_name": "Python 3"
    },
    "language_info": {
      "name": "python"
    }
  },
  "cells": [
    {
      "cell_type": "markdown",
      "metadata": {
        "id": "view-in-github",
        "colab_type": "text"
      },
      "source": [
        "<a href=\"https://colab.research.google.com/github/JoseJaramilloC22/AV/blob/master/IMC.ipynb\" target=\"_parent\"><img src=\"https://colab.research.google.com/assets/colab-badge.svg\" alt=\"Open In Colab\"/></a>"
      ]
    },
    {
      "cell_type": "code",
      "execution_count": 5,
      "metadata": {
        "colab": {
          "base_uri": "https://localhost:8080/"
        },
        "id": "MBbakYEo6QqE",
        "outputId": "f999128e-f915-4ad8-bfe5-29b84a71cfa3"
      },
      "outputs": [
        {
          "output_type": "stream",
          "name": "stdout",
          "text": [
            "20.761245674740486\n"
          ]
        }
      ],
      "source": [
        "#@title Calculo del Índice de Masa Corporal {run: \"auto\", vertical-output: true}\n",
        "Estatura =  1.70#@param {type:\"number\"}\n",
        "Peso =  60#@param {type:\"number\"}\n",
        "print((Peso)/(Estatura*Estatura))"
      ]
    }
  ]
}