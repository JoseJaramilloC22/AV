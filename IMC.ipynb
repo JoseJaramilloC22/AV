{
  "nbformat": 4,
  "nbformat_minor": 0,
  "metadata": {
    "colab": {
      "name": "IMC",
      "provenance": [],
      "authorship_tag": "ABX9TyNbjGJsHTzHJh/8b/FVuHYv",
      "include_colab_link": true
    },
    "kernelspec": {
      "name": "python3",
      "display_name": "Python 3"
    },
    "language_info": {
      "name": "python"
    }
  },
  "cells": [
    {
      "cell_type": "markdown",
      "metadata": {
        "id": "view-in-github",
        "colab_type": "text"
      },
      "source": [
        "<a href=\"https://colab.research.google.com/github/JoseJaramilloC22/AV/blob/master/IMC.ipynb\" target=\"_parent\"><img src=\"https://colab.research.google.com/assets/colab-badge.svg\" alt=\"Open In Colab\"/></a>"
      ]
    },
    {
      "cell_type": "markdown",
      "source": [
        "# índice de Masa Corporal\n",
        "# José Jaramillo"
      ],
      "metadata": {
        "id": "e205eAaxXf9V"
      }
    },
    {
      "cell_type": "code",
      "execution_count": 16,
      "metadata": {
        "colab": {
          "base_uri": "https://localhost:8080/"
        },
        "id": "XxZt2M-CXA5X",
        "outputId": "676300c8-d244-4bc2-9351-d7f6cbc8e045"
      },
      "outputs": [
        {
          "output_type": "stream",
          "name": "stdout",
          "text": [
            "0.0052519169496866355\n"
          ]
        }
      ],
      "source": [
        "#@title Texto de título predeterminado { run: \"auto\" }\n",
        "Peso = 150 #@param {type:\"number\"}\n",
        "Talla = 169 #@param {type:\"integer\"}\n",
        "imc=Peso/(Talla*Talla)\n",
        "print(imc)"
      ]
    },
    {
      "cell_type": "markdown",
      "source": [],
      "metadata": {
        "id": "2w8StgLcXIUu"
      }
    }
  ]
}